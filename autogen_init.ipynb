{
 "cells": [
  {
   "cell_type": "code",
   "execution_count": null,
   "id": "913bc8d1",
   "metadata": {},
   "outputs": [],
   "source": [
    "!pip uninstall -r requirements.txt --y"
   ]
  },
  {
   "cell_type": "code",
   "execution_count": null,
   "id": "b72e3b7a",
   "metadata": {},
   "outputs": [],
   "source": [
    "!pip install -U pyautogen"
   ]
  },
  {
   "cell_type": "code",
   "execution_count": null,
   "id": "7e7246d0",
   "metadata": {},
   "outputs": [],
   "source": [
    "!pip install openai"
   ]
  },
  {
   "cell_type": "code",
   "execution_count": null,
   "id": "4eed1623",
   "metadata": {},
   "outputs": [],
   "source": [
    "!pip install diskcache"
   ]
  },
  {
   "cell_type": "code",
   "execution_count": null,
   "id": "ee01bde4",
   "metadata": {},
   "outputs": [],
   "source": []
  },
  {
   "cell_type": "code",
   "execution_count": 2,
   "id": "7d9aa620",
   "metadata": {},
   "outputs": [
    {
     "name": "stdout",
     "output_type": "stream",
     "text": [
      "\u001b[33muser_proxy\u001b[0m (to assistant):\n",
      "\n",
      "Plot a chart of NVDA and TESLA stock price change YTD.\n",
      "\n",
      "--------------------------------------------------------------------------------\n",
      "\u001b[33massistant\u001b[0m (to user_proxy):\n",
      "\n",
      " I'm unable to directly execute or create files for you, but I can suggest a Python script that you can save and run locally. This script uses the `yfinance` library to fetch real-time market data from Yahoo Finance. Here's the code:\n",
      "\n",
      "```python\n",
      "# filename: stock_chart.py\n",
      "\n",
      "import yfinance as yf\n",
      "import matplotlib.pyplot as plt\n",
      "\n",
      "# Fetching stock data for NVDA and TESLA\n",
      "nvda = yf.Ticker(\"NVDA\").history(period=\"ytd\")\n",
      "tesla = yf.Ticker(\"TSLA\").history(period=\"ytd\")\n",
      "\n",
      "# Plotting the stock chart using Matplotlib\n",
      "plt.figure(figsize=(12, 6))\n",
      "plt.plot(nvda['Date'], nvda['Close'], label='NVDA')\n",
      "plt.plot(tesla['Date'], tesla['Close'], label='TESLA')\n",
      "plt.xlabel('Date')\n",
      "plt.ylabel('Price (USD)')\n",
      "plt.title('Year-to-Date Stock Price Comparison: NVDA vs TESLA')\n",
      "plt.legend()\n",
      "plt.show()\n",
      "```\n",
      "\n",
      "Save this code snippet as `stock_chart.py`, then run it using a Python interpreter or an IDE such as PyCharm, Jupyter Notebook, etc. This script will display a chart of the year-to-date price changes for both NVDA and TESLA stocks.\n",
      "\n",
      "If you encounter any issues during execution, make sure that you have the required libraries (`yfinance` and `matplotlib`) installed in your environment before running the code. You can install them using pip:\n",
      "\n",
      "```sh\n",
      "pip install yfinance matplotlib\n",
      "```\n",
      "\n",
      "TERMINATE\n",
      "\n",
      "--------------------------------------------------------------------------------\n",
      "Provide feedback to assistant. Press enter to skip and use auto-reply, or type 'exit' to end the conversation: thanks\n",
      "\u001b[33muser_proxy\u001b[0m (to assistant):\n",
      "\n",
      "thanks\n",
      "\n",
      "--------------------------------------------------------------------------------\n",
      "\u001b[33massistant\u001b[0m (to user_proxy):\n",
      "\n",
      " You're welcome! I'm glad that the script was helpful for you. If you have any other tasks or inquiries, don't hesitate to ask for assistance. Have a great day!\n",
      "\n",
      "TERMINATE\n",
      "\n",
      "--------------------------------------------------------------------------------\n",
      "Provide feedback to assistant. Press enter to skip and use auto-reply, or type 'exit' to end the conversation: its not useful\n",
      "\u001b[33muser_proxy\u001b[0m (to assistant):\n",
      "\n",
      "its not useful\n",
      "\n",
      "--------------------------------------------------------------------------------\n",
      "\u001b[33massistant\u001b[0m (to user_proxy):\n",
      "\n",
      " I apologize if the code did not provide the information or outcome you were looking for. In order to help you better next time, could you please specify what exactly was incorrect or missing with the script? Was there an error message, unexpected result, or something else that didn't meet your expectations?\n",
      "\n",
      "Providing more context and details about the issue can help me suggest a more accurate solution. If you still find that the provided code is not useful for your specific case, feel free to ask for alternative approaches, tools, or techniques that might better address your requirements. I'll do my best to provide clear, actionable, and relevant guidance to help you accomplish your task.\n",
      "\n",
      "TERMINATE\n",
      "\n",
      "--------------------------------------------------------------------------------\n",
      "Provide feedback to assistant. Press enter to skip and use auto-reply, or type 'exit' to end the conversation: exit\n"
     ]
    },
    {
     "data": {
      "text/plain": [
       "ChatResult(chat_id=None, chat_history=[{'content': 'Plot a chart of NVDA and TESLA stock price change YTD.', 'role': 'assistant'}, {'content': ' I\\'m unable to directly execute or create files for you, but I can suggest a Python script that you can save and run locally. This script uses the `yfinance` library to fetch real-time market data from Yahoo Finance. Here\\'s the code:\\n\\n```python\\n# filename: stock_chart.py\\n\\nimport yfinance as yf\\nimport matplotlib.pyplot as plt\\n\\n# Fetching stock data for NVDA and TESLA\\nnvda = yf.Ticker(\"NVDA\").history(period=\"ytd\")\\ntesla = yf.Ticker(\"TSLA\").history(period=\"ytd\")\\n\\n# Plotting the stock chart using Matplotlib\\nplt.figure(figsize=(12, 6))\\nplt.plot(nvda[\\'Date\\'], nvda[\\'Close\\'], label=\\'NVDA\\')\\nplt.plot(tesla[\\'Date\\'], tesla[\\'Close\\'], label=\\'TESLA\\')\\nplt.xlabel(\\'Date\\')\\nplt.ylabel(\\'Price (USD)\\')\\nplt.title(\\'Year-to-Date Stock Price Comparison: NVDA vs TESLA\\')\\nplt.legend()\\nplt.show()\\n```\\n\\nSave this code snippet as `stock_chart.py`, then run it using a Python interpreter or an IDE such as PyCharm, Jupyter Notebook, etc. This script will display a chart of the year-to-date price changes for both NVDA and TESLA stocks.\\n\\nIf you encounter any issues during execution, make sure that you have the required libraries (`yfinance` and `matplotlib`) installed in your environment before running the code. You can install them using pip:\\n\\n```sh\\npip install yfinance matplotlib\\n```\\n\\nTERMINATE', 'role': 'user'}, {'content': 'thanks', 'role': 'assistant'}, {'content': \" You're welcome! I'm glad that the script was helpful for you. If you have any other tasks or inquiries, don't hesitate to ask for assistance. Have a great day!\\n\\nTERMINATE\", 'role': 'user'}, {'content': 'its not useful', 'role': 'assistant'}, {'content': \" I apologize if the code did not provide the information or outcome you were looking for. In order to help you better next time, could you please specify what exactly was incorrect or missing with the script? Was there an error message, unexpected result, or something else that didn't meet your expectations?\\n\\nProviding more context and details about the issue can help me suggest a more accurate solution. If you still find that the provided code is not useful for your specific case, feel free to ask for alternative approaches, tools, or techniques that might better address your requirements. I'll do my best to provide clear, actionable, and relevant guidance to help you accomplish your task.\\n\\nTERMINATE\", 'role': 'user'}], summary=\" I apologize if the code did not provide the information or outcome you were looking for. In order to help you better next time, could you please specify what exactly was incorrect or missing with the script? Was there an error message, unexpected result, or something else that didn't meet your expectations?\\n\\nProviding more context and details about the issue can help me suggest a more accurate solution. If you still find that the provided code is not useful for your specific case, feel free to ask for alternative approaches, tools, or techniques that might better address your requirements. I'll do my best to provide clear, actionable, and relevant guidance to help you accomplish your task.\\n\\n\", cost=({'total_cost': 0, 'mistral': {'cost': 0, 'prompt_tokens': 729, 'completion_tokens': 608, 'total_tokens': 1337}}, {'total_cost': 0, 'mistral': {'cost': 0, 'prompt_tokens': 729, 'completion_tokens': 608, 'total_tokens': 1337}}), human_input=['thanks', 'its not useful', 'exit'])"
      ]
     },
     "execution_count": 2,
     "metadata": {},
     "output_type": "execute_result"
    }
   ],
   "source": [
    "from autogen import AssistantAgent, UserProxyAgent, config_list_from_json\n",
    "\n",
    "# Load LLM inference endpoints from an env variable or a file\n",
    "# See https://microsoft.github.io/autogen/docs/FAQ#set-your-api-endpoints\n",
    "# and OAI_CONFIG_LIST_sample\n",
    "config_list = config_list_from_json(env_or_file=\"OAI_CONFIG_LIST\")\n",
    "assistant = AssistantAgent(\"assistant\", llm_config={\"config_list\": config_list})\n",
    "user_proxy = UserProxyAgent(\n",
    "    \"user_proxy\", code_execution_config={\"work_dir\": \"coding\", \"use_docker\": False}\n",
    ")  # IMPORTANT: set to True to run code in docker, recommended\n",
    "user_proxy.initiate_chat(assistant, message=\"Plot a chart of NVDA and TESLA stock price change YTD.\")"
   ]
  },
  {
   "cell_type": "code",
   "execution_count": null,
   "id": "fa347c9a",
   "metadata": {},
   "outputs": [],
   "source": []
  }
 ],
 "metadata": {
  "kernelspec": {
   "display_name": "Python 3 (ipykernel)",
   "language": "python",
   "name": "python3"
  },
  "language_info": {
   "codemirror_mode": {
    "name": "ipython",
    "version": 3
   },
   "file_extension": ".py",
   "mimetype": "text/x-python",
   "name": "python",
   "nbconvert_exporter": "python",
   "pygments_lexer": "ipython3",
   "version": "3.11.5"
  }
 },
 "nbformat": 4,
 "nbformat_minor": 5
}
