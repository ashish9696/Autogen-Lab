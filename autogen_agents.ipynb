{
 "cells": [
  {
   "cell_type": "code",
   "execution_count": 1,
   "id": "913bc8d1",
   "metadata": {},
   "outputs": [
    {
     "name": "stdout",
     "output_type": "stream",
     "text": [
      "Found existing installation: pyautogen 0.2.19\r\n",
      "Uninstalling pyautogen-0.2.19:\r\n",
      "  Successfully uninstalled pyautogen-0.2.19\r\n"
     ]
    }
   ],
   "source": [
    "!pip uninstall -r requirements.txt --y"
   ]
  },
  {
   "cell_type": "code",
   "execution_count": 2,
   "id": "b72e3b7a",
   "metadata": {},
   "outputs": [
    {
     "name": "stdout",
     "output_type": "stream",
     "text": [
      "Collecting pyautogen\n",
      "  Obtaining dependency information for pyautogen from https://files.pythonhosted.org/packages/ca/60/8b0317197fb096356815a4414f74e63a9a21dac5a3591aabb8f3640584b2/pyautogen-0.2.19-py3-none-any.whl.metadata\n",
      "  Using cached pyautogen-0.2.19-py3-none-any.whl.metadata (18 kB)\n",
      "Requirement already satisfied: diskcache in /Users/ashish/anaconda3/lib/python3.11/site-packages (from pyautogen) (5.6.3)\n",
      "Requirement already satisfied: docker in /Users/ashish/anaconda3/lib/python3.11/site-packages (from pyautogen) (7.0.0)\n",
      "Requirement already satisfied: flaml in /Users/ashish/anaconda3/lib/python3.11/site-packages (from pyautogen) (2.1.2)\n",
      "Requirement already satisfied: numpy<2,>=1.17.0 in /Users/ashish/anaconda3/lib/python3.11/site-packages (from pyautogen) (1.24.3)\n",
      "Requirement already satisfied: openai>=1.3 in /Users/ashish/anaconda3/lib/python3.11/site-packages (from pyautogen) (1.14.0)\n",
      "Requirement already satisfied: pydantic!=2.6.0,<3,>=1.10 in /Users/ashish/anaconda3/lib/python3.11/site-packages (from pyautogen) (1.10.8)\n",
      "Requirement already satisfied: python-dotenv in /Users/ashish/anaconda3/lib/python3.11/site-packages (from pyautogen) (0.21.0)\n",
      "Requirement already satisfied: termcolor in /Users/ashish/anaconda3/lib/python3.11/site-packages (from pyautogen) (2.4.0)\n",
      "Requirement already satisfied: tiktoken in /Users/ashish/anaconda3/lib/python3.11/site-packages (from pyautogen) (0.5.1)\n",
      "Requirement already satisfied: anyio<5,>=3.5.0 in /Users/ashish/anaconda3/lib/python3.11/site-packages (from openai>=1.3->pyautogen) (3.5.0)\n",
      "Requirement already satisfied: distro<2,>=1.7.0 in /Users/ashish/anaconda3/lib/python3.11/site-packages (from openai>=1.3->pyautogen) (1.9.0)\n",
      "Requirement already satisfied: httpx<1,>=0.23.0 in /Users/ashish/anaconda3/lib/python3.11/site-packages (from openai>=1.3->pyautogen) (0.27.0)\n",
      "Requirement already satisfied: sniffio in /Users/ashish/anaconda3/lib/python3.11/site-packages (from openai>=1.3->pyautogen) (1.3.0)\n",
      "Requirement already satisfied: tqdm>4 in /Users/ashish/anaconda3/lib/python3.11/site-packages (from openai>=1.3->pyautogen) (4.65.0)\n",
      "Requirement already satisfied: typing-extensions<5,>=4.7 in /Users/ashish/anaconda3/lib/python3.11/site-packages (from openai>=1.3->pyautogen) (4.7.1)\n",
      "Requirement already satisfied: packaging>=14.0 in /Users/ashish/anaconda3/lib/python3.11/site-packages (from docker->pyautogen) (23.1)\n",
      "Requirement already satisfied: requests>=2.26.0 in /Users/ashish/anaconda3/lib/python3.11/site-packages (from docker->pyautogen) (2.31.0)\n",
      "Requirement already satisfied: urllib3>=1.26.0 in /Users/ashish/anaconda3/lib/python3.11/site-packages (from docker->pyautogen) (1.26.16)\n",
      "Requirement already satisfied: regex>=2022.1.18 in /Users/ashish/anaconda3/lib/python3.11/site-packages (from tiktoken->pyautogen) (2022.7.9)\n",
      "Requirement already satisfied: idna>=2.8 in /Users/ashish/anaconda3/lib/python3.11/site-packages (from anyio<5,>=3.5.0->openai>=1.3->pyautogen) (3.4)\n",
      "Requirement already satisfied: certifi in /Users/ashish/anaconda3/lib/python3.11/site-packages (from httpx<1,>=0.23.0->openai>=1.3->pyautogen) (2024.2.2)\n",
      "Requirement already satisfied: httpcore==1.* in /Users/ashish/anaconda3/lib/python3.11/site-packages (from httpx<1,>=0.23.0->openai>=1.3->pyautogen) (1.0.4)\n",
      "Requirement already satisfied: h11<0.15,>=0.13 in /Users/ashish/anaconda3/lib/python3.11/site-packages (from httpcore==1.*->httpx<1,>=0.23.0->openai>=1.3->pyautogen) (0.14.0)\n",
      "Requirement already satisfied: charset-normalizer<4,>=2 in /Users/ashish/anaconda3/lib/python3.11/site-packages (from requests>=2.26.0->docker->pyautogen) (2.0.4)\n",
      "Using cached pyautogen-0.2.19-py3-none-any.whl (212 kB)\n",
      "Installing collected packages: pyautogen\n",
      "Successfully installed pyautogen-0.2.19\n"
     ]
    }
   ],
   "source": [
    "!pip install -U pyautogen"
   ]
  },
  {
   "cell_type": "code",
   "execution_count": 3,
   "id": "7e7246d0",
   "metadata": {},
   "outputs": [
    {
     "name": "stdout",
     "output_type": "stream",
     "text": [
      "Requirement already satisfied: openai in /Users/ashish/anaconda3/lib/python3.11/site-packages (1.14.0)\n",
      "Requirement already satisfied: anyio<5,>=3.5.0 in /Users/ashish/anaconda3/lib/python3.11/site-packages (from openai) (3.5.0)\n",
      "Requirement already satisfied: distro<2,>=1.7.0 in /Users/ashish/anaconda3/lib/python3.11/site-packages (from openai) (1.9.0)\n",
      "Requirement already satisfied: httpx<1,>=0.23.0 in /Users/ashish/anaconda3/lib/python3.11/site-packages (from openai) (0.27.0)\n",
      "Requirement already satisfied: pydantic<3,>=1.9.0 in /Users/ashish/anaconda3/lib/python3.11/site-packages (from openai) (1.10.8)\n",
      "Requirement already satisfied: sniffio in /Users/ashish/anaconda3/lib/python3.11/site-packages (from openai) (1.3.0)\n",
      "Requirement already satisfied: tqdm>4 in /Users/ashish/anaconda3/lib/python3.11/site-packages (from openai) (4.65.0)\n",
      "Requirement already satisfied: typing-extensions<5,>=4.7 in /Users/ashish/anaconda3/lib/python3.11/site-packages (from openai) (4.7.1)\n",
      "Requirement already satisfied: idna>=2.8 in /Users/ashish/anaconda3/lib/python3.11/site-packages (from anyio<5,>=3.5.0->openai) (3.4)\n",
      "Requirement already satisfied: certifi in /Users/ashish/anaconda3/lib/python3.11/site-packages (from httpx<1,>=0.23.0->openai) (2024.2.2)\n",
      "Requirement already satisfied: httpcore==1.* in /Users/ashish/anaconda3/lib/python3.11/site-packages (from httpx<1,>=0.23.0->openai) (1.0.4)\n",
      "Requirement already satisfied: h11<0.15,>=0.13 in /Users/ashish/anaconda3/lib/python3.11/site-packages (from httpcore==1.*->httpx<1,>=0.23.0->openai) (0.14.0)\n"
     ]
    }
   ],
   "source": [
    "!pip install openai"
   ]
  },
  {
   "cell_type": "code",
   "execution_count": 4,
   "id": "4eed1623",
   "metadata": {},
   "outputs": [
    {
     "name": "stdout",
     "output_type": "stream",
     "text": [
      "Requirement already satisfied: diskcache in /Users/ashish/anaconda3/lib/python3.11/site-packages (5.6.3)\r\n"
     ]
    }
   ],
   "source": [
    "!pip install diskcache"
   ]
  },
  {
   "cell_type": "code",
   "execution_count": null,
   "id": "ee01bde4",
   "metadata": {},
   "outputs": [],
   "source": []
  },
  {
   "cell_type": "code",
   "execution_count": 7,
   "id": "7d9aa620",
   "metadata": {},
   "outputs": [],
   "source": [
    "from autogen import AssistantAgent, UserProxyAgent, config_list_from_json\n",
    "import autogen\n",
    "# Load LLM inference endpoints from an env variable or a file\n",
    "# See https://microsoft.github.io/autogen/docs/FAQ#set-your-api-endpoints\n",
    "# and OAI_CONFIG_LIST_sample\n",
    "config_list = config_list_from_json(env_or_file=\"OAI_CONFIG_LIST\")\n",
    "from autogen.agentchat.contrib.math_user_proxy_agent import MathUserProxyAgent"
   ]
  },
  {
   "cell_type": "code",
   "execution_count": 12,
   "id": "fa347c9a",
   "metadata": {},
   "outputs": [],
   "source": [
    "# 1. create an AssistantAgent instance named \"assistant\"\n",
    "assistant = autogen.AssistantAgent(\n",
    "    name=\"assistant\",\n",
    "    system_message=\"You are a helpful assistant. For questions asked, you will only return the final answer.\",\n",
    "    llm_config={\n",
    "        \"timeout\": 600,\n",
    "        \"seed\": 42,\n",
    "        \"config_list\": config_list,\n",
    "    },\n",
    ")\n",
    "\n",
    "# 2. create the MathUserProxyAgent instance named \"mathproxyagent\"\n",
    "# By default, the human_input_mode is \"NEVER\", which means the agent will not ask for human input.\n",
    "mathproxyagent = MathUserProxyAgent(\n",
    "    name=\"mathproxyagent\",\n",
    "    human_input_mode=\"NEVER\",\n",
    "    code_execution_config={\"use_docker\": False},\n",
    ")"
   ]
  },
  {
   "cell_type": "code",
   "execution_count": 13,
   "id": "f895f15b",
   "metadata": {},
   "outputs": [
    {
     "name": "stdout",
     "output_type": "stream",
     "text": [
      "\u001b[33mmathproxyagent\u001b[0m (to assistant):\n",
      "\n",
      "Let's use Python to solve a math problem.\n",
      "\n",
      "Query requirements:\n",
      "You should always use the 'print' function for the output and use fractions/radical forms instead of decimals.\n",
      "You can use packages like sympy to help you.\n",
      "You must follow the formats below to write your code:\n",
      "```python\n",
      "# your code\n",
      "```\n",
      "\n",
      "First state the key idea to solve the problem. You may choose from three ways to solve the problem:\n",
      "Case 1: If the problem can be solved with Python code directly, please write a program to solve it. You can enumerate all possible arrangements if needed.\n",
      "Case 2: If the problem is mostly reasoning, you can solve it by yourself directly.\n",
      "Case 3: If the problem cannot be handled in the above two ways, please follow this process:\n",
      "1. Solve the problem step by step (do not over-divide the steps).\n",
      "2. Take out any queries that can be asked through Python (for example, any calculations or equations that can be calculated).\n",
      "3. Wait for me to give the results.\n",
      "4. Continue if you think the result is correct. If the result is invalid or unexpected, please correct your query or reasoning.\n",
      "\n",
      "After all the queries are run and you get the answer, put the answer in \\boxed{}.\n",
      "\n",
      "Problem:\n",
      "Find all $x$ that satisfy the inequality $(2x+10)(x+3)<(3x+9)(x+8)$. Express your answer in interval notation.\n",
      "\n",
      "--------------------------------------------------------------------------------\n",
      "\u001b[33massistant\u001b[0m (to mathproxyagent):\n",
      "\n",
      " Case 3:\n",
      "\n",
      "First, let's simplify both sides of the inequality:\n",
      "\n",
      "$(2x+10)(x+3) < (3x+9)(x+8)$\n",
      "\n",
      "Multiplying out each term on the left side and factoring out $x+3$:\n",
      "\n",
      "$2x^2 + 11x + 10 < 3x^2 + 15x + 7$\n",
      "\n",
      "Now, let's subtract $x^2$ from both sides:\n",
      "\n",
      "$x^2 + 11x - 4 < 3x^2 + 15x$\n",
      "\n",
      "Subtracting $x(11+3)$ from both sides:\n",
      "\n",
      "$x(-8) < 3x + 15$\n",
      "\n",
      "Now, let's solve for $x$:\n",
      "\n",
      "$-8x < 3x + 15$\n",
      "\n",
      "Subtracting $3x$ from both sides:\n",
      "\n",
      "$-5x < 15$\n",
      "\n",
      "Dividing by $-5$:\n",
      "\n",
      "$x > -\\frac{15}{5}$\n",
      "\n",
      "Simplifying the fraction:\n",
      "\n",
      "$x > -3$\n",
      "\n",
      "So, all real numbers greater than $-3$ satisfy the inequality $(2x+10)(x+3)<(3x+9)(x+8)$.\n",
      "\n",
      "Answer: $x \\in (-\\infty, -3] \\cup [3, +\\infty)$\n",
      "\n",
      "--------------------------------------------------------------------------------\n",
      "\u001b[33mmathproxyagent\u001b[0m (to assistant):\n",
      "\n",
      "Continue. Please keep solving the problem until you need to query. (If you get to the answer, put it in \\boxed{}.)\n",
      "\n",
      "--------------------------------------------------------------------------------\n",
      "\u001b[33massistant\u001b[0m (to mathproxyagent):\n",
      "\n",
      " To find all real numbers that satisfy the inequality $(2x+10)(x+3)<(3x+9)(x+8)$, we'll follow these steps:\n",
      "\n",
      "Step 1: Simplify both sides of the inequality.\n",
      "\n",
      "$(2x+10)(x+3) < (3x+9)(x+8)$\n",
      "\n",
      "Multiplying out each term on the left side and factoring out $x+3$:\n",
      "\n",
      "$2x^2 + 11x + 10 < 3x^2 + 15x + 7$\n",
      "\n",
      "Now, let's subtract $x^2$ from both sides:\n",
      "\n",
      "$x^2 + 11x - 4 < 3x^2 + 15x$\n",
      "\n",
      "Subtracting $x(11+3)$ from both sides:\n",
      "\n",
      "$x(-8) < 3x + 15$\n",
      "\n",
      "Now, let's solve for $x$:\n",
      "\n",
      "$-8x < 3x + 15$\n",
      "\n",
      "Subtracting $3x$ from both sides:\n",
      "\n",
      "$-5x < 15$\n",
      "\n",
      "Dividing by $-5$:\n",
      "\n",
      "$x > -\\frac{15}{5}$\n",
      "\n",
      "Simplifying the fraction:\n",
      "\n",
      "$x > -3$\n",
      "\n",
      "Answer: $x \\in (-\\infty, -3] \\cup [3, +\\infty)$\n",
      "\n",
      "Since we have found an answer, we can put it in the boxed format:\n",
      "\n",
      "\\boxed{$x \\in (-\\infty, -3] \\cup [3, +\\infty)$}\n",
      "\n",
      "--------------------------------------------------------------------------------\n"
     ]
    }
   ],
   "source": [
    "math_problem = (\n",
    "    \"Find all $x$ that satisfy the inequality $(2x+10)(x+3)<(3x+9)(x+8)$. Express your answer in interval notation.\"\n",
    ")\n",
    "res = mathproxyagent.initiate_chat(assistant, message=mathproxyagent.message_generator, problem=math_problem)"
   ]
  },
  {
   "cell_type": "code",
   "execution_count": 20,
   "id": "500b6cb7",
   "metadata": {},
   "outputs": [
    {
     "data": {
      "text/plain": [
       "\" To find all real numbers that satisfy the inequality $(2x+10)(x+3)<(3x+9)(x+8)$, we'll follow these steps:\\n\\nStep 1: Simplify both sides of the inequality.\\n\\n$(2x+10)(x+3) < (3x+9)(x+8)$\\n\\nMultiplying out each term on the left side and factoring out $x+3$:\\n\\n$2x^2 + 11x + 10 < 3x^2 + 15x + 7$\\n\\nNow, let's subtract $x^2$ from both sides:\\n\\n$x^2 + 11x - 4 < 3x^2 + 15x$\\n\\nSubtracting $x(11+3)$ from both sides:\\n\\n$x(-8) < 3x + 15$\\n\\nNow, let's solve for $x$:\\n\\n$-8x < 3x + 15$\\n\\nSubtracting $3x$ from both sides:\\n\\n$-5x < 15$\\n\\nDividing by $-5$:\\n\\n$x > -\\\\frac{15}{5}$\\n\\nSimplifying the fraction:\\n\\n$x > -3$\\n\\nAnswer: $x \\\\in (-\\\\infty, -3] \\\\cup [3, +\\\\infty)$\\n\\nSince we have found an answer, we can put it in the boxed format:\\n\\n\\\\boxed{$x \\\\in (-\\\\infty, -3] \\\\cup [3, +\\\\infty)$}\""
      ]
     },
     "execution_count": 20,
     "metadata": {},
     "output_type": "execute_result"
    }
   ],
   "source": [
    "res.summary"
   ]
  },
  {
   "cell_type": "code",
   "execution_count": 21,
   "id": "88f29d9d",
   "metadata": {},
   "outputs": [
    {
     "data": {
      "text/plain": [
       "({'total_cost': 0,\n",
       "  'mistral': {'cost': 0,\n",
       "   'prompt_tokens': 384,\n",
       "   'completion_tokens': 683,\n",
       "   'total_tokens': 1067}},\n",
       " {'total_cost': 0,\n",
       "  'mistral': {'cost': 0,\n",
       "   'prompt_tokens': 384,\n",
       "   'completion_tokens': 683,\n",
       "   'total_tokens': 1067}})"
      ]
     },
     "execution_count": 21,
     "metadata": {},
     "output_type": "execute_result"
    }
   ],
   "source": [
    "res.cost"
   ]
  },
  {
   "cell_type": "code",
   "execution_count": null,
   "id": "11b4c019",
   "metadata": {},
   "outputs": [],
   "source": []
  },
  {
   "cell_type": "code",
   "execution_count": null,
   "id": "d32981dd",
   "metadata": {},
   "outputs": [],
   "source": []
  },
  {
   "cell_type": "code",
   "execution_count": null,
   "id": "c9cb4940",
   "metadata": {},
   "outputs": [],
   "source": []
  },
  {
   "cell_type": "code",
   "execution_count": null,
   "id": "2255bdc1",
   "metadata": {},
   "outputs": [],
   "source": []
  },
  {
   "cell_type": "code",
   "execution_count": null,
   "id": "05a5882f",
   "metadata": {},
   "outputs": [],
   "source": []
  },
  {
   "cell_type": "code",
   "execution_count": null,
   "id": "967b333b",
   "metadata": {},
   "outputs": [],
   "source": []
  },
  {
   "cell_type": "code",
   "execution_count": null,
   "id": "b88651d6",
   "metadata": {},
   "outputs": [],
   "source": []
  },
  {
   "cell_type": "code",
   "execution_count": null,
   "id": "ed120acc",
   "metadata": {},
   "outputs": [],
   "source": []
  }
 ],
 "metadata": {
  "kernelspec": {
   "display_name": "Python 3 (ipykernel)",
   "language": "python",
   "name": "python3"
  },
  "language_info": {
   "codemirror_mode": {
    "name": "ipython",
    "version": 3
   },
   "file_extension": ".py",
   "mimetype": "text/x-python",
   "name": "python",
   "nbconvert_exporter": "python",
   "pygments_lexer": "ipython3",
   "version": "3.11.5"
  }
 },
 "nbformat": 4,
 "nbformat_minor": 5
}
